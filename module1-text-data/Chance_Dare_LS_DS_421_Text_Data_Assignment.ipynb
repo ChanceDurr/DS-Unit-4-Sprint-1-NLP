{
  "nbformat": 4,
  "nbformat_minor": 0,
  "metadata": {
    "colab": {
      "name": "Chance Dare LS_DS_421_Text_Data_Assignment.ipynb",
      "version": "0.3.2",
      "provenance": [],
      "collapsed_sections": [],
      "include_colab_link": true
    },
    "kernelspec": {
      "display_name": "Python 3",
      "language": "python",
      "name": "python3"
    },
    "language_info": {
      "codemirror_mode": {
        "name": "ipython",
        "version": 3
      },
      "file_extension": ".py",
      "mimetype": "text/x-python",
      "name": "python",
      "nbconvert_exporter": "python",
      "pygments_lexer": "ipython3",
      "version": "3.7.3"
    },
    "toc-autonumbering": false
  },
  "cells": [
    {
      "cell_type": "markdown",
      "metadata": {
        "id": "view-in-github",
        "colab_type": "text"
      },
      "source": [
        "<a href=\"https://colab.research.google.com/github/ChanceDurr/DS-Unit-4-Sprint-1-NLP/blob/master/module1-text-data/Chance_Dare_LS_DS_421_Text_Data_Assignment.ipynb\" target=\"_parent\"><img src=\"https://colab.research.google.com/assets/colab-badge.svg\" alt=\"Open In Colab\"/></a>"
      ]
    },
    {
      "cell_type": "markdown",
      "metadata": {
        "id": "QGZKM7ZudtoU",
        "colab_type": "text"
      },
      "source": [
        "<img align=\"left\" src=\"https://lever-client-logos.s3.amazonaws.com/864372b1-534c-480e-acd5-9711f850815c-1524247202159.png\" width=200>\n",
        "<br></br>\n",
        "<br></br>\n",
        "\n",
        "# Natural Language Processing (NLP)\n",
        "## *Data Science Unit 4 Sprint 1 Assignment 1*\n",
        "\n",
        "Your goal in assignment: find the attributes of the best & worst coffee shops in the dataset. The text is fairly raw: dates in the review, extra words in the `star_rating` column, etc. You'll probably want to clean that stuff up for a better analysis. \n",
        "\n",
        "Analyze the corpus of text using text visualizations of token frequency. Try cleaning the data as much as possible. Try the following techniques: \n",
        "- Lemmatization\n",
        "- Custom stopword removal\n",
        "\n",
        "Keep in mind the attributes of good tokens. Once you have a solid baseline, layer in the star rating in your visualization(s). Keep part in this assignment - produce a write-up of the attributes of the best and worst coffee shops. Based on your analysis, what makes the best the best and the worst the worst. Use graphs and numbesr from your analysis to support your conclusions. There should be plenty of markdown cells! :coffee:"
      ]
    },
    {
      "cell_type": "code",
      "metadata": {
        "id": "BeXHgWF1dtoW",
        "colab_type": "code",
        "outputId": "532aa7ed-3f4f-4891-8176-a75552080a87",
        "colab": {
          "base_uri": "https://localhost:8080/",
          "height": 321
        }
      },
      "source": [
        "from IPython.display import YouTubeVideo\n",
        "\n",
        "YouTubeVideo('Jml7NVYm8cs')"
      ],
      "execution_count": 3,
      "outputs": [
        {
          "output_type": "execute_result",
          "data": {
            "text/html": [
              "\n",
              "        <iframe\n",
              "            width=\"400\"\n",
              "            height=\"300\"\n",
              "            src=\"https://www.youtube.com/embed/Jml7NVYm8cs\"\n",
              "            frameborder=\"0\"\n",
              "            allowfullscreen\n",
              "        ></iframe>\n",
              "        "
            ],
            "text/plain": [
              "<IPython.lib.display.YouTubeVideo at 0x7f8ed5f47898>"
            ],
            "image/jpeg": "[encoded data removed]"
          },
          "metadata": {
            "tags": []
          },
          "execution_count": 3
        }
      ]
    },
    {
      "cell_type": "code",
      "metadata": {
        "id": "2h6AkPgHdtof",
        "colab_type": "code",
        "colab": {}
      },
      "source": [
        "import pandas as pd\n",
        "shops = pd.read_csv('https://raw.githubusercontent.com/ChanceDurr/DS-Unit-4-Sprint-1-NLP/master/module1-text-data/data/yelp_coffeeshop_review_data.csv')\n",
        "\n",
        "shops['rating'] = shops['star_rating'].apply(lambda x: x[:2]).astype('float')\n",
        "del shops['star_rating']\n",
        "shops['date'] = shops['full_review_text'].apply(lambda x: x.split()[0])\n",
        "shops['full_review_text'] = shops['full_review_text'].apply(lambda x: \" \".join(x.split()[1:]))"
      ],
      "execution_count": 0,
      "outputs": []
    },
    {
      "cell_type": "code",
      "metadata": {
        "id": "NtUE_7FZdtoj",
        "colab_type": "code",
        "outputId": "55c69733-99f3-44b8-c658-dbf36578e14e",
        "colab": {
          "base_uri": "https://localhost:8080/",
          "height": 204
        }
      },
      "source": [
        "shops.head()"
      ],
      "execution_count": 5,
      "outputs": [
        {
          "output_type": "execute_result",
          "data": {
            "text/html": [
              "<div>\n",
              "<style scoped>\n",
              "    .dataframe tbody tr th:only-of-type {\n",
              "        vertical-align: middle;\n",
              "    }\n",
              "\n",
              "    .dataframe tbody tr th {\n",
              "        vertical-align: top;\n",
              "    }\n",
              "\n",
              "    .dataframe thead th {\n",
              "        text-align: right;\n",
              "    }\n",
              "</style>\n",
              "<table border=\"1\" class=\"dataframe\">\n",
              "  <thead>\n",
              "    <tr style=\"text-align: right;\">\n",
              "      <th></th>\n",
              "      <th>coffee_shop_name</th>\n",
              "      <th>full_review_text</th>\n",
              "      <th>rating</th>\n",
              "      <th>date</th>\n",
              "    </tr>\n",
              "  </thead>\n",
              "  <tbody>\n",
              "    <tr>\n",
              "      <th>0</th>\n",
              "      <td>The Factory - Cafe With a Soul</td>\n",
              "      <td>1 check-in Love love loved the atmosphere! Eve...</td>\n",
              "      <td>5.0</td>\n",
              "      <td>11/25/2016</td>\n",
              "    </tr>\n",
              "    <tr>\n",
              "      <th>1</th>\n",
              "      <td>The Factory - Cafe With a Soul</td>\n",
              "      <td>Listed in Date Night: Austin, Ambiance in Aust...</td>\n",
              "      <td>4.0</td>\n",
              "      <td>12/2/2016</td>\n",
              "    </tr>\n",
              "    <tr>\n",
              "      <th>2</th>\n",
              "      <td>The Factory - Cafe With a Soul</td>\n",
              "      <td>1 check-in Listed in Brunch Spots I loved the ...</td>\n",
              "      <td>4.0</td>\n",
              "      <td>11/30/2016</td>\n",
              "    </tr>\n",
              "    <tr>\n",
              "      <th>3</th>\n",
              "      <td>The Factory - Cafe With a Soul</td>\n",
              "      <td>Very cool decor! Good drinks Nice seating Howe...</td>\n",
              "      <td>2.0</td>\n",
              "      <td>11/25/2016</td>\n",
              "    </tr>\n",
              "    <tr>\n",
              "      <th>4</th>\n",
              "      <td>The Factory - Cafe With a Soul</td>\n",
              "      <td>1 check-in They are located within the Northcr...</td>\n",
              "      <td>4.0</td>\n",
              "      <td>12/3/2016</td>\n",
              "    </tr>\n",
              "  </tbody>\n",
              "</table>\n",
              "</div>"
            ],
            "text/plain": [
              "                  coffee_shop_name  ...        date\n",
              "0  The Factory - Cafe With a Soul   ...  11/25/2016\n",
              "1  The Factory - Cafe With a Soul   ...   12/2/2016\n",
              "2  The Factory - Cafe With a Soul   ...  11/30/2016\n",
              "3  The Factory - Cafe With a Soul   ...  11/25/2016\n",
              "4  The Factory - Cafe With a Soul   ...   12/3/2016\n",
              "\n",
              "[5 rows x 4 columns]"
            ]
          },
          "metadata": {
            "tags": []
          },
          "execution_count": 5
        }
      ]
    },
    {
      "cell_type": "code",
      "metadata": {
        "id": "bYuVZVV9d1SQ",
        "colab_type": "code",
        "outputId": "df72456d-13a2-4307-ab54-324bb1f84ddd",
        "colab": {
          "base_uri": "https://localhost:8080/",
          "height": 241
        }
      },
      "source": [
        "!python -m spacy download en_core_web_lg"
      ],
      "execution_count": 6,
      "outputs": [
        {
          "output_type": "stream",
          "text": [
            "Collecting en_core_web_lg==2.1.0 from https://github.com/explosion/spacy-models/releases/download/en_core_web_lg-2.1.0/en_core_web_lg-2.1.0.tar.gz#egg=en_core_web_lg==2.1.0\n",
            "\u001b[?25l  Downloading https://github.com/explosion/spacy-models/releases/download/en_core_web_lg-2.1.0/en_core_web_lg-2.1.0.tar.gz (826.9MB)\n",
            "\u001b[K     |████████████████████████████████| 826.9MB 1.2MB/s \n",
            "\u001b[?25hBuilding wheels for collected packages: en-core-web-lg\n",
            "  Building wheel for en-core-web-lg (setup.py) ... \u001b[?25l\u001b[?25hdone\n",
            "  Created wheel for en-core-web-lg: filename=en_core_web_lg-2.1.0-cp36-none-any.whl size=828255076 sha256=70f9b5c2d7b40843bfd7499a4488a0389ff05edc2deb498e85c23969e7111d0a\n",
            "  Stored in directory: /tmp/pip-ephem-wheel-cache-k903zw0q/wheels/b4/d7/70/426d313a459f82ed5e06cc36a50e2bb2f0ec5cb31d8e0bdf09\n",
            "Successfully built en-core-web-lg\n",
            "Installing collected packages: en-core-web-lg\n",
            "Successfully installed en-core-web-lg-2.1.0\n",
            "\u001b[38;5;2m✔ Download and installation successful\u001b[0m\n",
            "You can now load the model via spacy.load('en_core_web_lg')\n"
          ],
          "name": "stdout"
        }
      ]
    },
    {
      "cell_type": "code",
      "metadata": {
        "id": "QDy5Whhqef_H",
        "colab_type": "code",
        "outputId": "3c95849a-a4f2-4548-ad7c-2398564af695",
        "colab": {
          "base_uri": "https://localhost:8080/",
          "height": 51
        }
      },
      "source": [
        "import spacy\n",
        "import spacy.cli\n",
        "spacy.cli.download(\"en_core_web_lg\")\n",
        "\n",
        "nlp = spacy.load('en_core_web_lg')"
      ],
      "execution_count": 7,
      "outputs": [
        {
          "output_type": "stream",
          "text": [
            "\u001b[38;5;2m✔ Download and installation successful\u001b[0m\n",
            "You can now load the model via spacy.load('en_core_web_lg')\n"
          ],
          "name": "stdout"
        }
      ]
    },
    {
      "cell_type": "code",
      "metadata": {
        "id": "qLWqQKnzfmo0",
        "colab_type": "code",
        "colab": {}
      },
      "source": [
        "def get_lemmas(text):\n",
        "  \n",
        "  lemmas = []\n",
        "  \n",
        "  doc = nlp(text)\n",
        "  \n",
        "  for token in doc:\n",
        "    if ((token.is_stop == False) and (token.is_punct == False)) and (token.pos_ != 'PRON'):\n",
        "      lemmas.append(token.lemma_)\n",
        "      \n",
        "  return lemmas\n",
        "\n"
      ],
      "execution_count": 0,
      "outputs": []
    },
    {
      "cell_type": "code",
      "metadata": {
        "id": "PU4ulZbkg6cZ",
        "colab_type": "code",
        "colab": {}
      },
      "source": [
        "shops['tokens'] = shops['full_review_text'].apply(get_lemmas)"
      ],
      "execution_count": 0,
      "outputs": []
    },
    {
      "cell_type": "code",
      "metadata": {
        "id": "OUER8zwZh_a0",
        "colab_type": "code",
        "outputId": "7a3fe323-011b-4883-fda2-83764dc45d45",
        "colab": {
          "base_uri": "https://localhost:8080/",
          "height": 1000
        }
      },
      "source": [
        "shops['tokens']"
      ],
      "execution_count": 10,
      "outputs": [
        {
          "output_type": "execute_result",
          "data": {
            "text/plain": [
              "0       [1, check, love, love, love, atmosphere, corne...\n",
              "1       [list, Date, Night, Austin, Ambiance, Austin, ...\n",
              "2       [1, check, list, Brunch, Spots, love, eclectic...\n",
              "3       [cool, decor, good, drink, nice, seating, over...\n",
              "4       [1, check, locate, Northcross, mall, shopping,...\n",
              "5       [1, check, cute, cafe, think, moment, step, fi...\n",
              "6       [2, check, in, list, Nuptial, Coffee, Bliss, A...\n",
              "7       [2, check, in, love, place, 5, star, cleanline...\n",
              "8       [1, check, ok, let, try, approach, pro, music,...\n",
              "9       [3, check, in, place, show, social, medium, da...\n",
              "10      [1, check, list, Americano, average, cute, stu...\n",
              "11      [store, A+, decoration, honestly, coffee, good...\n",
              "12      [1, check, list, 2016, Time, Charm, Factory, a...\n",
              "13      [cute, little, cafe, drive, place, time, notic...\n",
              "14      [beautiful, eccentric, coffee, shop, library, ...\n",
              "15      [1, check, list, Search, Fantastic, Coffee, wa...\n",
              "16      [love, atmosphere, frequent, coffee, shop, def...\n",
              "17      [1, check, check, video, review, youtube.com/w...\n",
              "18      [1, check, note, come, look, place, work, remo...\n",
              "19      [aesthetic, place, love, corner, coffee, shop,...\n",
              "20      [1, check, check, Factory, past, Sunday, husba...\n",
              "21      [place, cute, new, favorite, coffee, spot, Bur...\n",
              "22      [try, new, cafe, spot, Burnet, friend, unassum...\n",
              "23      [greeting, atmosphere, feel, create, place, sp...\n",
              "24      [Craft, coffee, drink, tea, beer, wine, friend...\n",
              "25      [okay, visit, friend, LA, try, mint, mojito, i...\n",
              "26      [1, check, Guys, place, amazing, limited, food...\n",
              "27      [fantastic, atmosphere, drop, catch, work, fin...\n",
              "28      [place, amazing, wifi, fine, mean, place, hang...\n",
              "29      [write, Yelp, review, walk, feel, like, hipste...\n",
              "                              ...                        \n",
              "7586    [list, wanna, eat, North, Central, Austin, tea...\n",
              "7587    [2, check, in, list, 100, Yelp, Review, Challe...\n",
              "7588    [6, check, in, let, start, say, introduce, Sal...\n",
              "7589    [great, restaurant, think, disservice, appear,...\n",
              "7590    [today, try, place, Austin, September, list, l...\n",
              "7591    [good, place, eat, Austin, celiac, clean, prep...\n",
              "7592    [good, service, good, food, price, expensive, ...\n",
              "7593    [1, check, favorite, tea, Jasmine, blueberry, ...\n",
              "7594    [1, check, favorite, tea, place, Austin, vegan...\n",
              "7595    [4, check, in, list, Vegan, Beast, time, frien...\n",
              "7596    [good, experience, restaurant, Jordan, waitres...\n",
              "7597    [1, check, list, 2014, Yelp, 100, Challenge, H...\n",
              "7598    [go, steep, room, today, early, lunch, employe...\n",
              "7599    [1, check, hate, go, food, bc, lot, time, feel...\n",
              "7600    [great, service, unimaginative, uneventful, fo...\n",
              "7601    [1, check, great, selection, tea, purchase, ho...\n",
              "7602    [2, check, in, week, masala, chai, fix, wait, ...\n",
              "7603    [1, check, Went, lunch, today, Lauren, H., bab...\n",
              "7604    [complaint, wonderful, little, restaurant, TBL...\n",
              "7605    [get, Chipotle, Chocolate, Chai, tea, amazing,...\n",
              "7606    [great, tea, food, Domain, location, roomy, cl...\n",
              "7607    [place, amazing, favorite, Austin, spot, hit, ...\n",
              "7608    [come, visit, friend, Austin, fun, place, lot,...\n",
              "7609    [1, check, notice, friend, come, enjoy, decide...\n",
              "7610    [great, food, meal, enjoy, clean, great, peopl...\n",
              "7611    [actually, step, restaurant, chance, favorite,...\n",
              "7612    [ok, Steeping, Room, awesome, great, menu, ite...\n",
              "7613    [love, come, tea, atmosphere, pretty, fresh, o...\n",
              "7614    [food, average, booth, feel, clean, waitstaff,...\n",
              "7615    [finally, stop, lunch, colleague, glad, delici...\n",
              "Name: tokens, Length: 7616, dtype: object"
            ]
          },
          "metadata": {
            "tags": []
          },
          "execution_count": 10
        }
      ]
    },
    {
      "cell_type": "code",
      "metadata": {
        "id": "va0ADjI_iU3j",
        "colab_type": "code",
        "colab": {}
      },
      "source": [
        "from collections import Counter\n",
        "\n",
        "def count(docs):\n",
        "  word_counts = Counter()\n",
        "  appears_in = Counter()\n",
        "  \n",
        "  total_docs = len(docs)\n",
        "  \n",
        "  for doc in docs:\n",
        "    word_counts.update(doc)\n",
        "    appears_in.update(set(doc))\n",
        "    \n",
        "  temp = zip(word_counts.keys(), word_counts.values())\n",
        "  \n",
        "  wc = pd.DataFrame(temp, columns = ['word', 'count'])\n",
        "  \n",
        "  wc['rank'] = wc['count'].rank(method='first', ascending=False)\n",
        "  total = wc['count'].sum()\n",
        "  \n",
        "  wc['pct_total'] = wc['count'].apply(lambda x: x / total)\n",
        "  \n",
        "  wc = wc.sort_values(by='rank')\n",
        "  wc['cul_pct+total'] = wc['pct_total'].cumsum()\n",
        "  \n",
        "  t2 = zip(appears_in.keys(), appears_in.values())\n",
        "  ac = pd.DataFrame(t2, columns=['word', 'appears_in'])\n",
        "  wc = ac.merge(wc, on='word')\n",
        "  \n",
        "  wc['appears_in_pct'] = wc['appears_in'].apply(lambda x: x / total_docs)\n",
        "  \n",
        "  return wc.sort_values(by='rank')"
      ],
      "execution_count": 0,
      "outputs": []
    },
    {
      "cell_type": "code",
      "metadata": {
        "id": "dQWe3Vipjjhh",
        "colab_type": "code",
        "colab": {}
      },
      "source": [
        "wc = count(shops['tokens'])"
      ],
      "execution_count": 0,
      "outputs": []
    },
    {
      "cell_type": "code",
      "metadata": {
        "id": "1QcmNdMqjqOv",
        "colab_type": "code",
        "outputId": "074570ce-00f7-46da-9c5f-83ad914bfcdf",
        "colab": {
          "base_uri": "https://localhost:8080/",
          "height": 204
        }
      },
      "source": [
        "wc.head()"
      ],
      "execution_count": 13,
      "outputs": [
        {
          "output_type": "execute_result",
          "data": {
            "text/html": [
              "<div>\n",
              "<style scoped>\n",
              "    .dataframe tbody tr th:only-of-type {\n",
              "        vertical-align: middle;\n",
              "    }\n",
              "\n",
              "    .dataframe tbody tr th {\n",
              "        vertical-align: top;\n",
              "    }\n",
              "\n",
              "    .dataframe thead th {\n",
              "        text-align: right;\n",
              "    }\n",
              "</style>\n",
              "<table border=\"1\" class=\"dataframe\">\n",
              "  <thead>\n",
              "    <tr style=\"text-align: right;\">\n",
              "      <th></th>\n",
              "      <th>word</th>\n",
              "      <th>appears_in</th>\n",
              "      <th>count</th>\n",
              "      <th>rank</th>\n",
              "      <th>pct_total</th>\n",
              "      <th>cul_pct+total</th>\n",
              "      <th>appears_in_pct</th>\n",
              "    </tr>\n",
              "  </thead>\n",
              "  <tbody>\n",
              "    <tr>\n",
              "      <th>21</th>\n",
              "      <td>coffee</td>\n",
              "      <td>4848</td>\n",
              "      <td>10153</td>\n",
              "      <td>1.0</td>\n",
              "      <td>0.028068</td>\n",
              "      <td>0.028068</td>\n",
              "      <td>0.636555</td>\n",
              "    </tr>\n",
              "    <tr>\n",
              "      <th>120</th>\n",
              "      <td>place</td>\n",
              "      <td>3879</td>\n",
              "      <td>6026</td>\n",
              "      <td>2.0</td>\n",
              "      <td>0.016659</td>\n",
              "      <td>0.044728</td>\n",
              "      <td>0.509322</td>\n",
              "    </tr>\n",
              "    <tr>\n",
              "      <th>158</th>\n",
              "      <td>good</td>\n",
              "      <td>3590</td>\n",
              "      <td>5393</td>\n",
              "      <td>3.0</td>\n",
              "      <td>0.014909</td>\n",
              "      <td>0.059637</td>\n",
              "      <td>0.471376</td>\n",
              "    </tr>\n",
              "    <tr>\n",
              "      <th>138</th>\n",
              "      <td>great</td>\n",
              "      <td>2843</td>\n",
              "      <td>3924</td>\n",
              "      <td>4.0</td>\n",
              "      <td>0.010848</td>\n",
              "      <td>0.070485</td>\n",
              "      <td>0.373293</td>\n",
              "    </tr>\n",
              "    <tr>\n",
              "      <th>27</th>\n",
              "      <td>check</td>\n",
              "      <td>3175</td>\n",
              "      <td>3467</td>\n",
              "      <td>5.0</td>\n",
              "      <td>0.009585</td>\n",
              "      <td>0.080070</td>\n",
              "      <td>0.416886</td>\n",
              "    </tr>\n",
              "  </tbody>\n",
              "</table>\n",
              "</div>"
            ],
            "text/plain": [
              "       word  appears_in  count  rank  pct_total  cul_pct+total  appears_in_pct\n",
              "21   coffee        4848  10153   1.0   0.028068       0.028068        0.636555\n",
              "120   place        3879   6026   2.0   0.016659       0.044728        0.509322\n",
              "158    good        3590   5393   3.0   0.014909       0.059637        0.471376\n",
              "138   great        2843   3924   4.0   0.010848       0.070485        0.373293\n",
              "27    check        3175   3467   5.0   0.009585       0.080070        0.416886"
            ]
          },
          "metadata": {
            "tags": []
          },
          "execution_count": 13
        }
      ]
    },
    {
      "cell_type": "code",
      "metadata": {
        "id": "PMvsV_JCkLXV",
        "colab_type": "code",
        "outputId": "7a4a45af-e25b-4ad4-9c3e-3c8619a365c9",
        "colab": {
          "base_uri": "https://localhost:8080/",
          "height": 85
        }
      },
      "source": [
        "pip install squarify"
      ],
      "execution_count": 14,
      "outputs": [
        {
          "output_type": "stream",
          "text": [
            "Collecting squarify\n",
            "  Downloading https://files.pythonhosted.org/packages/0b/2b/2e77c35326efec19819cd1d729540d4d235e6c2a3f37658288a363a67da5/squarify-0.4.3-py3-none-any.whl\n",
            "Installing collected packages: squarify\n",
            "Successfully installed squarify-0.4.3\n"
          ],
          "name": "stdout"
        }
      ]
    },
    {
      "cell_type": "code",
      "metadata": {
        "id": "iNs8_kjfjsgM",
        "colab_type": "code",
        "outputId": "b3a98d95-9fd4-4b89-d874-fcffd5f4d1e8",
        "colab": {
          "base_uri": "https://localhost:8080/",
          "height": 269
        }
      },
      "source": [
        "import squarify\n",
        "import matplotlib.pyplot as plt\n",
        "\n",
        "wc_top20 = wc[wc['rank'] <= 20]\n",
        "\n",
        "squarify.plot(sizes=wc_top20['pct_total'], label=wc_top20['word'], alpha=.8)\n",
        "plt.axis('off')\n",
        "plt.show()\n"
      ],
      "execution_count": 15,
      "outputs": [
        {
          "output_type": "display_data",
          "data": {
            "image/png": "[encoded data removed]",
            "text/plain": [
              "<Figure size 432x288 with 1 Axes>"
            ]
          },
          "metadata": {
            "tags": []
          }
        }
      ]
    },
    {
      "cell_type": "code",
      "metadata": {
        "id": "r5rk1F_olpXF",
        "colab_type": "code",
        "outputId": "f878ca1d-9aab-4419-983f-a7ef5819e749",
        "colab": {
          "base_uri": "https://localhost:8080/",
          "height": 300
        }
      },
      "source": [
        "import seaborn as sns\n",
        "\n",
        "sns.distplot(shops['rating'])"
      ],
      "execution_count": 16,
      "outputs": [
        {
          "output_type": "execute_result",
          "data": {
            "text/plain": [
              "<matplotlib.axes._subplots.AxesSubplot at 0x7f8e5f980f98>"
            ]
          },
          "metadata": {
            "tags": []
          },
          "execution_count": 16
        },
        {
          "output_type": "display_data",
          "data": {
            "image/png": "[encoded data removed]",
            "text/plain": [
              "<Figure size 432x288 with 1 Axes>"
            ]
          },
          "metadata": {
            "tags": []
          }
        }
      ]
    },
    {
      "cell_type": "code",
      "metadata": {
        "id": "EgwZHWsOz-if",
        "colab_type": "code",
        "colab": {}
      },
      "source": [
        "wc_bad = count(shops[shops['rating'] < 4]['tokens'])"
      ],
      "execution_count": 0,
      "outputs": []
    },
    {
      "cell_type": "code",
      "metadata": {
        "id": "Xt7C4MAOkduS",
        "colab_type": "code",
        "colab": {
          "base_uri": "https://localhost:8080/",
          "height": 269
        },
        "outputId": "13dcb90c-911e-4eaa-b117-0a03f7c39c6b"
      },
      "source": [
        "wc_top20_bad = wc_bad[wc_bad['rank'] <= 20]\n",
        "\n",
        "squarify.plot(sizes=wc_top20_bad['pct_total'], label=wc_top20_bad['word'], alpha=.8)\n",
        "plt.axis('off')\n",
        "plt.show()"
      ],
      "execution_count": 42,
      "outputs": [
        {
          "output_type": "display_data",
          "data": {
            "image/png": "[encoded data removed]",
            "text/plain": [
              "<Figure size 432x288 with 1 Axes>"
            ]
          },
          "metadata": {
            "tags": []
          }
        }
      ]
    },
    {
      "cell_type": "code",
      "metadata": {
        "id": "tJCL1CH-2bI9",
        "colab_type": "code",
        "colab": {}
      },
      "source": [
        "wc_good = count(shops[shops['rating'] > 4]['tokens'])"
      ],
      "execution_count": 0,
      "outputs": []
    },
    {
      "cell_type": "code",
      "metadata": {
        "id": "lQXaom9Y2crI",
        "colab_type": "code",
        "colab": {
          "base_uri": "https://localhost:8080/",
          "height": 269
        },
        "outputId": "e7a8cc9b-d5a4-4ab1-8c68-67efa29b7ce3"
      },
      "source": [
        "wc_top20_good = wc_good[wc_good['rank'] <= 20]\n",
        "\n",
        "squarify.plot(sizes=wc_top20_good['pct_total'], label=wc_top20_good['word'], alpha=.8)\n",
        "plt.axis('off')\n",
        "plt.show()"
      ],
      "execution_count": 22,
      "outputs": [
        {
          "output_type": "display_data",
          "data": {
            "image/png": "[encoded data removed]",
            "text/plain": [
              "<Figure size 432x288 with 1 Axes>"
            ]
          },
          "metadata": {
            "tags": []
          }
        }
      ]
    },
    {
      "cell_type": "code",
      "metadata": {
        "id": "SMjg0PgY3USv",
        "colab_type": "code",
        "colab": {}
      },
      "source": [
        "diff = wc_good[['word', 'appears_in_pct']].merge(wc_bad[['word', 'appears_in_pct']], on='word', how='outer', suffixes=('', '_bad'))"
      ],
      "execution_count": 0,
      "outputs": []
    },
    {
      "cell_type": "code",
      "metadata": {
        "id": "cRspZ0B55uFI",
        "colab_type": "code",
        "colab": {
          "base_uri": "https://localhost:8080/",
          "height": 204
        },
        "outputId": "b9944641-16b6-4cfa-86bd-db592f33db4d"
      },
      "source": [
        "diff.head()"
      ],
      "execution_count": 44,
      "outputs": [
        {
          "output_type": "execute_result",
          "data": {
            "text/html": [
              "<div>\n",
              "<style scoped>\n",
              "    .dataframe tbody tr th:only-of-type {\n",
              "        vertical-align: middle;\n",
              "    }\n",
              "\n",
              "    .dataframe tbody tr th {\n",
              "        vertical-align: top;\n",
              "    }\n",
              "\n",
              "    .dataframe thead th {\n",
              "        text-align: right;\n",
              "    }\n",
              "</style>\n",
              "<table border=\"1\" class=\"dataframe\">\n",
              "  <thead>\n",
              "    <tr style=\"text-align: right;\">\n",
              "      <th></th>\n",
              "      <th>word</th>\n",
              "      <th>appears_in_pct</th>\n",
              "      <th>appears_in_pct_bad</th>\n",
              "    </tr>\n",
              "  </thead>\n",
              "  <tbody>\n",
              "    <tr>\n",
              "      <th>0</th>\n",
              "      <td>coffee</td>\n",
              "      <td>0.620635</td>\n",
              "      <td>0.631436</td>\n",
              "    </tr>\n",
              "    <tr>\n",
              "      <th>1</th>\n",
              "      <td>place</td>\n",
              "      <td>0.491270</td>\n",
              "      <td>0.510840</td>\n",
              "    </tr>\n",
              "    <tr>\n",
              "      <th>2</th>\n",
              "      <td>good</td>\n",
              "      <td>0.453704</td>\n",
              "      <td>0.434959</td>\n",
              "    </tr>\n",
              "    <tr>\n",
              "      <th>3</th>\n",
              "      <td>great</td>\n",
              "      <td>0.411905</td>\n",
              "      <td>0.234417</td>\n",
              "    </tr>\n",
              "    <tr>\n",
              "      <th>4</th>\n",
              "      <td>check</td>\n",
              "      <td>0.387566</td>\n",
              "      <td>0.331301</td>\n",
              "    </tr>\n",
              "  </tbody>\n",
              "</table>\n",
              "</div>"
            ],
            "text/plain": [
              "     word  appears_in_pct  appears_in_pct_bad\n",
              "0  coffee        0.620635            0.631436\n",
              "1   place        0.491270            0.510840\n",
              "2    good        0.453704            0.434959\n",
              "3   great        0.411905            0.234417\n",
              "4   check        0.387566            0.331301"
            ]
          },
          "metadata": {
            "tags": []
          },
          "execution_count": 44
        }
      ]
    },
    {
      "cell_type": "code",
      "metadata": {
        "id": "1yi3n2mG5990",
        "colab_type": "code",
        "colab": {}
      },
      "source": [
        "diff['diff'] = diff['appears_in_pct'] - diff['appears_in_pct_bad']"
      ],
      "execution_count": 0,
      "outputs": []
    },
    {
      "cell_type": "code",
      "metadata": {
        "id": "w44Kb_HY6Mtn",
        "colab_type": "code",
        "colab": {
          "base_uri": "https://localhost:8080/",
          "height": 1000
        },
        "outputId": "f8cecfe9-bd44-463b-fb51-6c94d807035e"
      },
      "source": [
        "diff.sort_values(by='diff')"
      ],
      "execution_count": 46,
      "outputs": [
        {
          "output_type": "execute_result",
          "data": {
            "text/html": [
              "<div>\n",
              "<style scoped>\n",
              "    .dataframe tbody tr th:only-of-type {\n",
              "        vertical-align: middle;\n",
              "    }\n",
              "\n",
              "    .dataframe tbody tr th {\n",
              "        vertical-align: top;\n",
              "    }\n",
              "\n",
              "    .dataframe thead th {\n",
              "        text-align: right;\n",
              "    }\n",
              "</style>\n",
              "<table border=\"1\" class=\"dataframe\">\n",
              "  <thead>\n",
              "    <tr style=\"text-align: right;\">\n",
              "      <th></th>\n",
              "      <th>word</th>\n",
              "      <th>appears_in_pct</th>\n",
              "      <th>appears_in_pct_bad</th>\n",
              "      <th>diff</th>\n",
              "    </tr>\n",
              "  </thead>\n",
              "  <tbody>\n",
              "    <tr>\n",
              "      <th>7</th>\n",
              "      <td>like</td>\n",
              "      <td>0.237302</td>\n",
              "      <td>0.403794</td>\n",
              "      <td>-0.166492</td>\n",
              "    </tr>\n",
              "    <tr>\n",
              "      <th>22</th>\n",
              "      <td>order</td>\n",
              "      <td>0.146561</td>\n",
              "      <td>0.292005</td>\n",
              "      <td>-0.145445</td>\n",
              "    </tr>\n",
              "    <tr>\n",
              "      <th>264</th>\n",
              "      <td>bad</td>\n",
              "      <td>0.028042</td>\n",
              "      <td>0.128726</td>\n",
              "      <td>-0.100684</td>\n",
              "    </tr>\n",
              "    <tr>\n",
              "      <th>31</th>\n",
              "      <td>go</td>\n",
              "      <td>0.128307</td>\n",
              "      <td>0.228320</td>\n",
              "      <td>-0.100013</td>\n",
              "    </tr>\n",
              "    <tr>\n",
              "      <th>137</th>\n",
              "      <td>ask</td>\n",
              "      <td>0.049735</td>\n",
              "      <td>0.149051</td>\n",
              "      <td>-0.099316</td>\n",
              "    </tr>\n",
              "    <tr>\n",
              "      <th>52</th>\n",
              "      <td>pretty</td>\n",
              "      <td>0.092857</td>\n",
              "      <td>0.191734</td>\n",
              "      <td>-0.098877</td>\n",
              "    </tr>\n",
              "    <tr>\n",
              "      <th>109</th>\n",
              "      <td>$</td>\n",
              "      <td>0.053439</td>\n",
              "      <td>0.147696</td>\n",
              "      <td>-0.094257</td>\n",
              "    </tr>\n",
              "    <tr>\n",
              "      <th>30</th>\n",
              "      <td>service</td>\n",
              "      <td>0.140212</td>\n",
              "      <td>0.234417</td>\n",
              "      <td>-0.094206</td>\n",
              "    </tr>\n",
              "    <tr>\n",
              "      <th>45</th>\n",
              "      <td>taste</td>\n",
              "      <td>0.101058</td>\n",
              "      <td>0.189702</td>\n",
              "      <td>-0.088644</td>\n",
              "    </tr>\n",
              "    <tr>\n",
              "      <th>58</th>\n",
              "      <td>think</td>\n",
              "      <td>0.089418</td>\n",
              "      <td>0.177507</td>\n",
              "      <td>-0.088089</td>\n",
              "    </tr>\n",
              "    <tr>\n",
              "      <th>185</th>\n",
              "      <td>star</td>\n",
              "      <td>0.032804</td>\n",
              "      <td>0.119919</td>\n",
              "      <td>-0.087114</td>\n",
              "    </tr>\n",
              "    <tr>\n",
              "      <th>360</th>\n",
              "      <td>maybe</td>\n",
              "      <td>0.018519</td>\n",
              "      <td>0.105014</td>\n",
              "      <td>-0.086495</td>\n",
              "    </tr>\n",
              "    <tr>\n",
              "      <th>152</th>\n",
              "      <td>say</td>\n",
              "      <td>0.042593</td>\n",
              "      <td>0.126016</td>\n",
              "      <td>-0.083424</td>\n",
              "    </tr>\n",
              "    <tr>\n",
              "      <th>8</th>\n",
              "      <td>come</td>\n",
              "      <td>0.225132</td>\n",
              "      <td>0.306233</td>\n",
              "      <td>-0.081101</td>\n",
              "    </tr>\n",
              "    <tr>\n",
              "      <th>144</th>\n",
              "      <td>customer</td>\n",
              "      <td>0.047090</td>\n",
              "      <td>0.126016</td>\n",
              "      <td>-0.078926</td>\n",
              "    </tr>\n",
              "    <tr>\n",
              "      <th>581</th>\n",
              "      <td>ok</td>\n",
              "      <td>0.011905</td>\n",
              "      <td>0.089431</td>\n",
              "      <td>-0.077526</td>\n",
              "    </tr>\n",
              "    <tr>\n",
              "      <th>10</th>\n",
              "      <td>time</td>\n",
              "      <td>0.207672</td>\n",
              "      <td>0.283875</td>\n",
              "      <td>-0.076203</td>\n",
              "    </tr>\n",
              "    <tr>\n",
              "      <th>78</th>\n",
              "      <td>review</td>\n",
              "      <td>0.077249</td>\n",
              "      <td>0.151084</td>\n",
              "      <td>-0.073835</td>\n",
              "    </tr>\n",
              "    <tr>\n",
              "      <th>127</th>\n",
              "      <td>take</td>\n",
              "      <td>0.052116</td>\n",
              "      <td>0.122629</td>\n",
              "      <td>-0.070512</td>\n",
              "    </tr>\n",
              "    <tr>\n",
              "      <th>49</th>\n",
              "      <td>look</td>\n",
              "      <td>0.102116</td>\n",
              "      <td>0.170732</td>\n",
              "      <td>-0.068615</td>\n",
              "    </tr>\n",
              "    <tr>\n",
              "      <th>37</th>\n",
              "      <td>want</td>\n",
              "      <td>0.116402</td>\n",
              "      <td>0.184959</td>\n",
              "      <td>-0.068557</td>\n",
              "    </tr>\n",
              "    <tr>\n",
              "      <th>366</th>\n",
              "      <td>pay</td>\n",
              "      <td>0.019048</td>\n",
              "      <td>0.084688</td>\n",
              "      <td>-0.065641</td>\n",
              "    </tr>\n",
              "    <tr>\n",
              "      <th>3263</th>\n",
              "      <td>rude</td>\n",
              "      <td>0.001058</td>\n",
              "      <td>0.065718</td>\n",
              "      <td>-0.064660</td>\n",
              "    </tr>\n",
              "    <tr>\n",
              "      <th>136</th>\n",
              "      <td>well</td>\n",
              "      <td>0.051852</td>\n",
              "      <td>0.114499</td>\n",
              "      <td>-0.062647</td>\n",
              "    </tr>\n",
              "    <tr>\n",
              "      <th>28</th>\n",
              "      <td>people</td>\n",
              "      <td>0.128571</td>\n",
              "      <td>0.190379</td>\n",
              "      <td>-0.061808</td>\n",
              "    </tr>\n",
              "    <tr>\n",
              "      <th>97</th>\n",
              "      <td>wait</td>\n",
              "      <td>0.062963</td>\n",
              "      <td>0.124661</td>\n",
              "      <td>-0.061698</td>\n",
              "    </tr>\n",
              "    <tr>\n",
              "      <th>226</th>\n",
              "      <td>minute</td>\n",
              "      <td>0.031217</td>\n",
              "      <td>0.092818</td>\n",
              "      <td>-0.061601</td>\n",
              "    </tr>\n",
              "    <tr>\n",
              "      <th>19</th>\n",
              "      <td>food</td>\n",
              "      <td>0.156614</td>\n",
              "      <td>0.217480</td>\n",
              "      <td>-0.060866</td>\n",
              "    </tr>\n",
              "    <tr>\n",
              "      <th>17</th>\n",
              "      <td>get</td>\n",
              "      <td>0.167460</td>\n",
              "      <td>0.227642</td>\n",
              "      <td>-0.060182</td>\n",
              "    </tr>\n",
              "    <tr>\n",
              "      <th>280</th>\n",
              "      <td>counter</td>\n",
              "      <td>0.025926</td>\n",
              "      <td>0.086043</td>\n",
              "      <td>-0.060117</td>\n",
              "    </tr>\n",
              "    <tr>\n",
              "      <th>...</th>\n",
              "      <td>...</td>\n",
              "      <td>...</td>\n",
              "      <td>...</td>\n",
              "      <td>...</td>\n",
              "    </tr>\n",
              "    <tr>\n",
              "      <th>13881</th>\n",
              "      <td>unintentionally</td>\n",
              "      <td>NaN</td>\n",
              "      <td>0.000678</td>\n",
              "      <td>NaN</td>\n",
              "    </tr>\n",
              "    <tr>\n",
              "      <th>13882</th>\n",
              "      <td>damaged</td>\n",
              "      <td>NaN</td>\n",
              "      <td>0.000678</td>\n",
              "      <td>NaN</td>\n",
              "    </tr>\n",
              "    <tr>\n",
              "      <th>13883</th>\n",
              "      <td>amputate</td>\n",
              "      <td>NaN</td>\n",
              "      <td>0.000678</td>\n",
              "      <td>NaN</td>\n",
              "    </tr>\n",
              "    <tr>\n",
              "      <th>13884</th>\n",
              "      <td>1,000</td>\n",
              "      <td>NaN</td>\n",
              "      <td>0.000678</td>\n",
              "      <td>NaN</td>\n",
              "    </tr>\n",
              "    <tr>\n",
              "      <th>13885</th>\n",
              "      <td>reimburse</td>\n",
              "      <td>NaN</td>\n",
              "      <td>0.000678</td>\n",
              "      <td>NaN</td>\n",
              "    </tr>\n",
              "    <tr>\n",
              "      <th>13886</th>\n",
              "      <td>insurance</td>\n",
              "      <td>NaN</td>\n",
              "      <td>0.000678</td>\n",
              "      <td>NaN</td>\n",
              "    </tr>\n",
              "    <tr>\n",
              "      <th>13887</th>\n",
              "      <td>downgrade</td>\n",
              "      <td>NaN</td>\n",
              "      <td>0.000678</td>\n",
              "      <td>NaN</td>\n",
              "    </tr>\n",
              "    <tr>\n",
              "      <th>13888</th>\n",
              "      <td>drastically</td>\n",
              "      <td>NaN</td>\n",
              "      <td>0.000678</td>\n",
              "      <td>NaN</td>\n",
              "    </tr>\n",
              "    <tr>\n",
              "      <th>13889</th>\n",
              "      <td>Modena</td>\n",
              "      <td>NaN</td>\n",
              "      <td>0.000678</td>\n",
              "      <td>NaN</td>\n",
              "    </tr>\n",
              "    <tr>\n",
              "      <th>13890</th>\n",
              "      <td>sou</td>\n",
              "      <td>NaN</td>\n",
              "      <td>0.000678</td>\n",
              "      <td>NaN</td>\n",
              "    </tr>\n",
              "    <tr>\n",
              "      <th>13891</th>\n",
              "      <td>vide</td>\n",
              "      <td>NaN</td>\n",
              "      <td>0.000678</td>\n",
              "      <td>NaN</td>\n",
              "    </tr>\n",
              "    <tr>\n",
              "      <th>13892</th>\n",
              "      <td>wilt</td>\n",
              "      <td>NaN</td>\n",
              "      <td>0.000678</td>\n",
              "      <td>NaN</td>\n",
              "    </tr>\n",
              "    <tr>\n",
              "      <th>13893</th>\n",
              "      <td>gazpacho</td>\n",
              "      <td>NaN</td>\n",
              "      <td>0.000678</td>\n",
              "      <td>NaN</td>\n",
              "    </tr>\n",
              "    <tr>\n",
              "      <th>13894</th>\n",
              "      <td>clincher</td>\n",
              "      <td>NaN</td>\n",
              "      <td>0.000678</td>\n",
              "      <td>NaN</td>\n",
              "    </tr>\n",
              "    <tr>\n",
              "      <th>13895</th>\n",
              "      <td>conveyor</td>\n",
              "      <td>NaN</td>\n",
              "      <td>0.000678</td>\n",
              "      <td>NaN</td>\n",
              "    </tr>\n",
              "    <tr>\n",
              "      <th>13896</th>\n",
              "      <td>belt</td>\n",
              "      <td>NaN</td>\n",
              "      <td>0.000678</td>\n",
              "      <td>NaN</td>\n",
              "    </tr>\n",
              "    <tr>\n",
              "      <th>13897</th>\n",
              "      <td>sushi</td>\n",
              "      <td>NaN</td>\n",
              "      <td>0.000678</td>\n",
              "      <td>NaN</td>\n",
              "    </tr>\n",
              "    <tr>\n",
              "      <th>13898</th>\n",
              "      <td>overzealous</td>\n",
              "      <td>NaN</td>\n",
              "      <td>0.000678</td>\n",
              "      <td>NaN</td>\n",
              "    </tr>\n",
              "    <tr>\n",
              "      <th>13899</th>\n",
              "      <td>realise</td>\n",
              "      <td>NaN</td>\n",
              "      <td>0.000678</td>\n",
              "      <td>NaN</td>\n",
              "    </tr>\n",
              "    <tr>\n",
              "      <th>13900</th>\n",
              "      <td>prohibitively</td>\n",
              "      <td>NaN</td>\n",
              "      <td>0.000678</td>\n",
              "      <td>NaN</td>\n",
              "    </tr>\n",
              "    <tr>\n",
              "      <th>13901</th>\n",
              "      <td>migraine</td>\n",
              "      <td>NaN</td>\n",
              "      <td>0.000678</td>\n",
              "      <td>NaN</td>\n",
              "    </tr>\n",
              "    <tr>\n",
              "      <th>13902</th>\n",
              "      <td>cleaner</td>\n",
              "      <td>NaN</td>\n",
              "      <td>0.000678</td>\n",
              "      <td>NaN</td>\n",
              "    </tr>\n",
              "    <tr>\n",
              "      <th>13903</th>\n",
              "      <td>monsieur</td>\n",
              "      <td>NaN</td>\n",
              "      <td>0.000678</td>\n",
              "      <td>NaN</td>\n",
              "    </tr>\n",
              "    <tr>\n",
              "      <th>13904</th>\n",
              "      <td>GLUTEN</td>\n",
              "      <td>NaN</td>\n",
              "      <td>0.000678</td>\n",
              "      <td>NaN</td>\n",
              "    </tr>\n",
              "    <tr>\n",
              "      <th>13905</th>\n",
              "      <td>boil</td>\n",
              "      <td>NaN</td>\n",
              "      <td>0.000678</td>\n",
              "      <td>NaN</td>\n",
              "    </tr>\n",
              "    <tr>\n",
              "      <th>13906</th>\n",
              "      <td>Ravi</td>\n",
              "      <td>NaN</td>\n",
              "      <td>0.000678</td>\n",
              "      <td>NaN</td>\n",
              "    </tr>\n",
              "    <tr>\n",
              "      <th>13907</th>\n",
              "      <td>uneventful</td>\n",
              "      <td>NaN</td>\n",
              "      <td>0.000678</td>\n",
              "      <td>NaN</td>\n",
              "    </tr>\n",
              "    <tr>\n",
              "      <th>13908</th>\n",
              "      <td>nora</td>\n",
              "      <td>NaN</td>\n",
              "      <td>0.000678</td>\n",
              "      <td>NaN</td>\n",
              "    </tr>\n",
              "    <tr>\n",
              "      <th>13909</th>\n",
              "      <td>fried</td>\n",
              "      <td>NaN</td>\n",
              "      <td>0.000678</td>\n",
              "      <td>NaN</td>\n",
              "    </tr>\n",
              "    <tr>\n",
              "      <th>13910</th>\n",
              "      <td>tasted</td>\n",
              "      <td>NaN</td>\n",
              "      <td>0.000678</td>\n",
              "      <td>NaN</td>\n",
              "    </tr>\n",
              "  </tbody>\n",
              "</table>\n",
              "<p>13911 rows × 4 columns</p>\n",
              "</div>"
            ],
            "text/plain": [
              "                  word  appears_in_pct  appears_in_pct_bad      diff\n",
              "7                 like        0.237302            0.403794 -0.166492\n",
              "22               order        0.146561            0.292005 -0.145445\n",
              "264                bad        0.028042            0.128726 -0.100684\n",
              "31                  go        0.128307            0.228320 -0.100013\n",
              "137                ask        0.049735            0.149051 -0.099316\n",
              "52              pretty        0.092857            0.191734 -0.098877\n",
              "109                  $        0.053439            0.147696 -0.094257\n",
              "30             service        0.140212            0.234417 -0.094206\n",
              "45               taste        0.101058            0.189702 -0.088644\n",
              "58               think        0.089418            0.177507 -0.088089\n",
              "185               star        0.032804            0.119919 -0.087114\n",
              "360              maybe        0.018519            0.105014 -0.086495\n",
              "152                say        0.042593            0.126016 -0.083424\n",
              "8                 come        0.225132            0.306233 -0.081101\n",
              "144           customer        0.047090            0.126016 -0.078926\n",
              "581                 ok        0.011905            0.089431 -0.077526\n",
              "10                time        0.207672            0.283875 -0.076203\n",
              "78              review        0.077249            0.151084 -0.073835\n",
              "127               take        0.052116            0.122629 -0.070512\n",
              "49                look        0.102116            0.170732 -0.068615\n",
              "37                want        0.116402            0.184959 -0.068557\n",
              "366                pay        0.019048            0.084688 -0.065641\n",
              "3263              rude        0.001058            0.065718 -0.064660\n",
              "136               well        0.051852            0.114499 -0.062647\n",
              "28              people        0.128571            0.190379 -0.061808\n",
              "97                wait        0.062963            0.124661 -0.061698\n",
              "226             minute        0.031217            0.092818 -0.061601\n",
              "19                food        0.156614            0.217480 -0.060866\n",
              "17                 get        0.167460            0.227642 -0.060182\n",
              "280            counter        0.025926            0.086043 -0.060117\n",
              "...                ...             ...                 ...       ...\n",
              "13881  unintentionally             NaN            0.000678       NaN\n",
              "13882          damaged             NaN            0.000678       NaN\n",
              "13883         amputate             NaN            0.000678       NaN\n",
              "13884            1,000             NaN            0.000678       NaN\n",
              "13885        reimburse             NaN            0.000678       NaN\n",
              "13886        insurance             NaN            0.000678       NaN\n",
              "13887        downgrade             NaN            0.000678       NaN\n",
              "13888      drastically             NaN            0.000678       NaN\n",
              "13889           Modena             NaN            0.000678       NaN\n",
              "13890              sou             NaN            0.000678       NaN\n",
              "13891             vide             NaN            0.000678       NaN\n",
              "13892             wilt             NaN            0.000678       NaN\n",
              "13893         gazpacho             NaN            0.000678       NaN\n",
              "13894         clincher             NaN            0.000678       NaN\n",
              "13895         conveyor             NaN            0.000678       NaN\n",
              "13896             belt             NaN            0.000678       NaN\n",
              "13897            sushi             NaN            0.000678       NaN\n",
              "13898      overzealous             NaN            0.000678       NaN\n",
              "13899          realise             NaN            0.000678       NaN\n",
              "13900    prohibitively             NaN            0.000678       NaN\n",
              "13901         migraine             NaN            0.000678       NaN\n",
              "13902          cleaner             NaN            0.000678       NaN\n",
              "13903         monsieur             NaN            0.000678       NaN\n",
              "13904           GLUTEN             NaN            0.000678       NaN\n",
              "13905             boil             NaN            0.000678       NaN\n",
              "13906             Ravi             NaN            0.000678       NaN\n",
              "13907       uneventful             NaN            0.000678       NaN\n",
              "13908             nora             NaN            0.000678       NaN\n",
              "13909            fried             NaN            0.000678       NaN\n",
              "13910           tasted             NaN            0.000678       NaN\n",
              "\n",
              "[13911 rows x 4 columns]"
            ]
          },
          "metadata": {
            "tags": []
          },
          "execution_count": 46
        }
      ]
    },
    {
      "cell_type": "markdown",
      "metadata": {
        "colab_type": "text",
        "id": "1dCb1q8XphcP",
        "toc-hr-collapsed": true
      },
      "source": [
        "## Stretch Goals\n",
        "\n",
        "* Analyze another corpus of documents - such as Indeed.com job listings ;).\n",
        "* Play the the Spacy API to\n",
        " - Extract Named Entities\n",
        " - Extracting 'noun chunks'\n",
        " - Attempt Document Classification with just Spacy\n",
        " - *Note:* This [course](https://course.spacy.io/) will be of interesting in helping you with these stretch goals. \n",
        "* Try to build a plotly dash app with your text data \n",
        "\n"
      ]
    }
  ]
}